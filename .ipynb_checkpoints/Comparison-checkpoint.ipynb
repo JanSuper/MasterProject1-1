{
 "cells": [
  {
   "cell_type": "code",
   "execution_count": 14,
   "id": "427e4724-b279-4372-bc4e-10d3d0486189",
   "metadata": {},
   "outputs": [],
   "source": [
    "import pandas as pd\n",
    "import seaborn as sns\n",
    "import matplotlib.pyplot as plt\n",
    "from pandas.api.types import is_numeric_dtype\n",
    "from sklearn.model_selection import train_test_split\n",
    "from sklearn.metrics import confusion_matrix\n",
    "import numpy as np\n",
    "import seaborn as sns\n",
    "from sklearn_som.som import SOM\n",
    "from collections import Counter\n",
    "import matplotlib.pyplot as plt\n",
    "from matplotlib.colors import ListedColormap\n",
    "\n",
    "%matplotlib inline  \n",
    "plt.rcParams['figure.figsize'] = (10, 6)\n",
    "\n",
    "df = pd.read_csv('full_data.csv', engine= 'python')\n",
    "\n",
    "for c in df.columns[1:]:\n",
    "    if c == 'TissueTypePrediction':\n",
    "        break\n",
    "    if not is_numeric_dtype(df[c]):\n",
    "        #print(c)\n",
    "        df[c] = df[c].apply(lambda x: float(x.split()[0].replace(',','.')))"
   ]
  },
  {
   "cell_type": "code",
   "execution_count": 15,
   "id": "e6c8fa12-445a-4d07-b2f8-a30c60d2f348",
   "metadata": {},
   "outputs": [],
   "source": [
    "PATIENT_NUM = 4\n",
    "Som_M = 3\n",
    "Som_N = 3"
   ]
  },
  {
   "cell_type": "code",
   "execution_count": 16,
   "id": "12eb763b-b9ce-4a4a-b9ce-c6e976c9a71b",
   "metadata": {},
   "outputs": [
    {
     "name": "stdout",
     "output_type": "stream",
     "text": [
      "Uninflamed\n",
      "1 : 36.668070766638586 %\n",
      "2 : 3.863676672726467 %\n",
      "3 : 7.232962355340752 %\n",
      "4 : 0.09255974814880503 %\n",
      "5 : 0.0 %\n",
      "6 : 0.05542499889150003 %\n",
      "7 : 0.0 %\n",
      "8 : 0.0 %\n",
      "9 : 0.0 %\n",
      "Inflamed\n",
      "1 : 9.70495212512456 %\n",
      "2 : 12.855595511459642 %\n",
      "3 : 19.390840951431915 %\n",
      "4 : 6.497985355920453 %\n",
      "5 : 3.970365235475066 %\n",
      "6 : 16.563407131406784 %\n",
      "7 : 9.136519214938694 %\n",
      "8 : 11.239547679909883 %\n",
      "9 : 0.0 %\n",
      "Dysplastic\n",
      "1 : 34.400781257947365 %\n",
      "2 : 13.413629289034922 %\n",
      "3 : 8.504318281232516 %\n",
      "4 : 1.3234591009430028 %\n",
      "5 : 0.0 %\n",
      "6 : 6.336530929880064 %\n",
      "7 : 0.0 %\n",
      "8 : 0.0 %\n",
      "9 : 0.0 %\n"
     ]
    }
   ],
   "source": [
    "dfn = df._get_numeric_data()\n",
    "normalized_df=(dfn-dfn.min())/(dfn.max()-dfn.min())\n",
    "\n",
    "typelist = df[df['Patient'] == PATIENT_NUM]['Status.simple'].unique()\n",
    "mask =  (df['Patient'] == PATIENT_NUM)\n",
    "df1 = normalized_df[mask]\n",
    "\n",
    "#df1 = normalized_df\n",
    "\n",
    "col = [\"ROInr\",\"Cell_Area\",\"Nucl_Area\",\"X80ArAr_Mean\",\"sSMA113_Mean\",\"aSMA_Mean\",\"X124Xe_Mean\",\"X127I_Mean\",\"X129Xe_Mean\",\"X132Xe_Mean\",\"RORgt_Mean\",\"Ecad_Mean\",\"CD20_Mean\",\"GATA3_Mean\",\"GATA3_Nucl_Mean\",\"Tbet_Mean\",\"Tbet_Nucl_Mean\",\"CD16_Mean\",\"BetaCatenin_Mean\",\"PanKeratin_Mean\",\"CTLA4_Mean\",\"PDL1_Mean\",\"IFNg_Mean\",\"CD45RO_Mean\",\"AKT_Mean\",\"HLA_DR-DP-DQ_Mean\",\"FOXP3_Mean\",\"FOXP3_Nucl_Mean\",\"CD4_Mean\",\"CD103_Mean\",\"pSTAT3_Mean\",\"CD68_Mean\",\"IL10_Mean\",\"CD45_Mean\",\"CD8a_Mean\",\"ICOS_Mean\",\"pS6_Mean\",\"PD1_Mean\",\"NFkB_Mean\",\"NFkB_Nucl_Mean\",\"IL17a_Mean\",\"Ki67_Mean\",\"Ki67_Nucl_Mean\",\"GranzymeB_Mean\",\"CD3_Mean\",\"pERK_Mean\",\"Cleaved Caspase 3_Mean\",\"ERK_Mean\",\"TCRgd_Mean\",\"pAKT_Mean\",\"H3_Mean\",\"H3_Nucl_Mean\",\"Ir193_Mean\",\"Ir193_Nucl_Mean\"]\n",
    "df2 = df1[col]\n",
    "iris_som = SOM(m=Som_M, n=Som_N, dim=54)\n",
    "iris_som.fit(np.array(df2),epochs=1000)\n",
    "\n",
    "for i in range(len(typelist)):\n",
    "    df3 = normalized_df[df['Status.simple'] == typelist[i]][col]\n",
    "    predictions = iris_som.predict(np.array(df3))\n",
    "    \n",
    "    print(typelist[i])\n",
    "    for j in range(Som_M*Som_N):\n",
    "        amount = list(predictions).count(j+1)\n",
    "        percentage = amount/len(list(predictions))*100\n",
    "        print(f\"{j+1} : {percentage} %\")\n",
    "    #print(predictions)"
   ]
  },
  {
   "cell_type": "code",
   "execution_count": 22,
   "id": "38d92323-9911-4137-94e3-cdc2d88b84cc",
   "metadata": {},
   "outputs": [
    {
     "name": "stderr",
     "output_type": "stream",
     "text": [
      "C:\\Users\\Jan Super\\AppData\\Local\\Temp\\ipykernel_21600\\2815351725.py:7: UserWarning: Boolean Series key will be reindexed to match DataFrame index.\n",
      "  df3 = df2[df['ImageNumber'] == IMAGE]\n"
     ]
    },
    {
     "ename": "TypeError",
     "evalue": "__init__() missing 1 required positional argument: 'colors'",
     "output_type": "error",
     "traceback": [
      "\u001b[1;31m---------------------------------------------------------------------------\u001b[0m",
      "\u001b[1;31mTypeError\u001b[0m                                 Traceback (most recent call last)",
      "Cell \u001b[1;32mIn [23], line 15\u001b[0m\n\u001b[0;32m     12\u001b[0m y \u001b[38;5;241m=\u001b[39m df[df[\u001b[38;5;124m'\u001b[39m\u001b[38;5;124mImageNumber\u001b[39m\u001b[38;5;124m'\u001b[39m] \u001b[38;5;241m==\u001b[39m IMAGE][\u001b[38;5;124m'\u001b[39m\u001b[38;5;124mcy\u001b[39m\u001b[38;5;124m'\u001b[39m]\n\u001b[0;32m     13\u001b[0m \u001b[38;5;66;03m#colors = ['red', 'green', 'blue', 'yellow', 'purple', 'black', 'gray', 'orange', 'pink']\u001b[39;00m\n\u001b[1;32m---> 15\u001b[0m ax\u001b[38;5;241m.\u001b[39mscatter(x, y, c\u001b[38;5;241m=\u001b[39mpredictions, cmap\u001b[38;5;241m=\u001b[39m\u001b[43mListedColormap\u001b[49m\u001b[43m(\u001b[49m\u001b[43m)\u001b[49m, s\u001b[38;5;241m=\u001b[39m\u001b[38;5;241m10\u001b[39m)\n\u001b[0;32m     16\u001b[0m ax\u001b[38;5;241m.\u001b[39mtitle\u001b[38;5;241m.\u001b[39mset_text(\u001b[38;5;124m'\u001b[39m\u001b[38;5;124mSOM Predictions\u001b[39m\u001b[38;5;124m'\u001b[39m)\n\u001b[0;32m     18\u001b[0m plt\u001b[38;5;241m.\u001b[39mshow()\n",
      "\u001b[1;31mTypeError\u001b[0m: __init__() missing 1 required positional argument: 'colors'"
     ]
    },
    {
     "data": {
      "image/png": "[encoded data removed]",
      "text/plain": [
       "<Figure size 500x700 with 1 Axes>"
      ]
     },
     "metadata": {},
     "output_type": "display_data"
    }
   ],
   "source": [
    "# Uninflamed - 20210805_MBAA047_S7_R-1_D-S7_T35_R1\n",
    "# Dysplastic - 20210808_MBAA047_S8_R-8_D-S8_T40_R1\n",
    "# Inflamed   - 20210805_MBAA047_S7_R-6_D-S7_T37_R1\n",
    "\n",
    "IMAGE = '20210805_MBAA047_S7_R-6_D-S7_T37_R1'\n",
    "\n",
    "df3 = df2[df['ImageNumber'] == IMAGE]\n",
    "predictions = iris_som.predict(np.array(df3))\n",
    "\n",
    "ig, ax = plt.subplots(nrows=1, ncols=1, figsize=(5,7))\n",
    "x = df[df['ImageNumber'] == IMAGE]['cx']\n",
    "y = df[df['ImageNumber'] == IMAGE]['cy']\n",
    "colors = ['red', 'green', 'blue', 'yellow', 'purple', 'black', 'gray', 'orange', 'pink']\n",
    "\n",
    "ax.scatter(x, y, c=predictions, cmap=ListedColormap(colors), s=10)\n",
    "ax.title.set_text('SOM Predictions')\n",
    "\n",
    "plt.show()"
   ]
  },
  {
   "cell_type": "code",
   "execution_count": null,
   "id": "5711dc8f-0c12-4628-9eb7-a3684349184d",
   "metadata": {},
   "outputs": [],
   "source": []
  }
 ],
 "metadata": {
  "kernelspec": {
   "display_name": "Python 3 (ipykernel)",
   "language": "python",
   "name": "python3"
  },
  "language_info": {
   "codemirror_mode": {
    "name": "ipython",
    "version": 3
   },
   "file_extension": ".py",
   "mimetype": "text/x-python",
   "name": "python",
   "nbconvert_exporter": "python",
   "pygments_lexer": "ipython3",
   "version": "3.9.15"
  }
 },
 "nbformat": 4,
 "nbformat_minor": 5
}
