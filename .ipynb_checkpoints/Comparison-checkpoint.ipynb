{
 "cells": [
  {
   "cell_type": "code",
   "execution_count": 32,
   "id": "427e4724-b279-4372-bc4e-10d3d0486189",
   "metadata": {},
   "outputs": [],
   "source": [
    "import pandas as pd\n",
    "import seaborn as sns\n",
    "import matplotlib.pyplot as plt\n",
    "from pandas.api.types import is_numeric_dtype\n",
    "from sklearn.model_selection import train_test_split\n",
    "from sklearn.metrics import confusion_matrix\n",
    "import numpy as np\n",
    "import seaborn as sns\n",
    "from sklearn_som.som import SOM\n",
    "from collections import Counter\n",
    "\n",
    "%matplotlib inline  \n",
    "plt.rcParams['figure.figsize'] = (10, 6)\n",
    "\n",
    "df = pd.read_csv('full_data.csv', engine= 'python')\n",
    "\n",
    "for c in df.columns[1:]:\n",
    "    if c == 'TissueTypePrediction':\n",
    "        break\n",
    "    if not is_numeric_dtype(df[c]):\n",
    "        #print(c)\n",
    "        df[c] = df[c].apply(lambda x: float(x.split()[0].replace(',','.')))"
   ]
  },
  {
   "cell_type": "code",
   "execution_count": 33,
   "id": "e6c8fa12-445a-4d07-b2f8-a30c60d2f348",
   "metadata": {},
   "outputs": [],
   "source": [
    "PATIENT_NUM = 4\n",
    "Som_M = 4\n",
    "Som_N = 4"
   ]
  },
  {
   "cell_type": "code",
   "execution_count": 34,
   "id": "12eb763b-b9ce-4a4a-b9ce-c6e976c9a71b",
   "metadata": {},
   "outputs": [
    {
     "name": "stdout",
     "output_type": "stream",
     "text": [
      "Dysplastic\n",
      "1 : 0.0020345259046010804 %\n",
      "2 : 4.860482386091981 %\n",
      "3 : 9.195039825844582 %\n",
      "4 : 0.190228172080201 %\n",
      "5 : 8.09639583736 %\n",
      "6 : 4.225710303856444 %\n",
      "7 : 5.468805631567704 %\n",
      "8 : 7.775958007385329 %\n",
      "9 : 1.7018809191988036 %\n",
      "10 : 7.300896208660977 %\n",
      "11 : 7.743405592911712 %\n",
      "12 : 12.22241437189099 %\n",
      "13 : 7.569453628068319 %\n",
      "14 : 8.973276502243065 %\n",
      "15 : 7.867511673092379 %\n",
      "16 : 0.0 %\n",
      "Uninflamed\n",
      "1 : 2.8538331929233363 %\n",
      "2 : 2.8954019420919614 %\n",
      "3 : 6.735245865295083 %\n",
      "4 : 2.979093690418126 %\n",
      "5 : 7.329956103400878 %\n",
      "6 : 8.863011572739769 %\n",
      "7 : 6.001973129960538 %\n",
      "8 : 3.6840996763180063 %\n",
      "9 : 3.2966789340664215 %\n",
      "10 : 2.302908703941826 %\n",
      "11 : 1.6128674677426507 %\n",
      "12 : 17.468296900634062 %\n",
      "13 : 23.7363100252738 %\n",
      "14 : 6.512437369751252 %\n",
      "15 : 1.5031259699374806 %\n",
      "16 : 0.0 %\n",
      "Inflamed\n",
      "1 : 0.0 %\n",
      "2 : 0.24868939820631686 %\n",
      "3 : 2.8768250942333524 %\n",
      "4 : 0.0 %\n",
      "5 : 0.22009444998050345 %\n",
      "6 : 2.959143884580391 %\n",
      "7 : 4.2901087474546165 %\n",
      "8 : 1.2564446947705905 %\n",
      "9 : 1.2919717516572071 %\n",
      "10 : 8.285602876825095 %\n",
      "11 : 7.149603570035961 %\n",
      "12 : 5.365452103461721 %\n",
      "13 : 5.1912828733590395 %\n",
      "14 : 25.49023005935618 %\n",
      "15 : 35.374550496079024 %\n",
      "16 : 0.0 %\n"
     ]
    }
   ],
   "source": [
    "dfn = df._get_numeric_data()\n",
    "normalized_df=(dfn-dfn.min())/(dfn.max()-dfn.min())\n",
    "\n",
    "typelist = df[df['Patient'] == PATIENT_NUM]['Status.simple'].unique()\n",
    "mask = df['Status.simple'] == typelist[0]\n",
    "df1 = normalized_df[mask]\n",
    "\n",
    "col = [\"ROInr\",\"Cell_Area\",\"Nucl_Area\",\"X80ArAr_Mean\",\"sSMA113_Mean\",\"aSMA_Mean\",\"X124Xe_Mean\",\"X127I_Mean\",\"X129Xe_Mean\",\"X132Xe_Mean\",\"RORgt_Mean\",\"Ecad_Mean\",\"CD20_Mean\",\"GATA3_Mean\",\"GATA3_Nucl_Mean\",\"Tbet_Mean\",\"Tbet_Nucl_Mean\",\"CD16_Mean\",\"BetaCatenin_Mean\",\"PanKeratin_Mean\",\"CTLA4_Mean\",\"PDL1_Mean\",\"IFNg_Mean\",\"CD45RO_Mean\",\"AKT_Mean\",\"HLA_DR-DP-DQ_Mean\",\"FOXP3_Mean\",\"FOXP3_Nucl_Mean\",\"CD4_Mean\",\"CD103_Mean\",\"pSTAT3_Mean\",\"CD68_Mean\",\"IL10_Mean\",\"CD45_Mean\",\"CD8a_Mean\",\"ICOS_Mean\",\"pS6_Mean\",\"PD1_Mean\",\"NFkB_Mean\",\"NFkB_Nucl_Mean\",\"IL17a_Mean\",\"Ki67_Mean\",\"Ki67_Nucl_Mean\",\"GranzymeB_Mean\",\"CD3_Mean\",\"pERK_Mean\",\"Cleaved Caspase 3_Mean\",\"ERK_Mean\",\"TCRgd_Mean\",\"pAKT_Mean\",\"H3_Mean\",\"H3_Nucl_Mean\",\"Ir193_Mean\",\"Ir193_Nucl_Mean\"]\n",
    "df2 = df1[col]\n",
    "iris_som = SOM(m=Som_M, n=Som_N, dim=54)\n",
    "iris_som.fit(np.array(df2),epochs=1000)\n",
    "\n",
    "for i in range(len(typelist)):\n",
    "    df3 = normalized_df[df['Status.simple'] == typelist[i]][col]\n",
    "    predictions = iris_som.predict(np.array(df3))\n",
    "    \n",
    "    print(typelist[i])\n",
    "    for j in range(Som_M*Som_N):\n",
    "        amount = list(predictions).count(j+1)\n",
    "        percentage = amount/len(list(predictions))*100\n",
    "        print(f\"{j+1} : {percentage} %\")\n",
    "    #print(predictions)"
   ]
  },
  {
   "cell_type": "code",
   "execution_count": null,
   "id": "38d92323-9911-4137-94e3-cdc2d88b84cc",
   "metadata": {},
   "outputs": [],
   "source": []
  }
 ],
 "metadata": {
  "kernelspec": {
   "display_name": "Python 3 (ipykernel)",
   "language": "python",
   "name": "python3"
  },
  "language_info": {
   "codemirror_mode": {
    "name": "ipython",
    "version": 3
   },
   "file_extension": ".py",
   "mimetype": "text/x-python",
   "name": "python",
   "nbconvert_exporter": "python",
   "pygments_lexer": "ipython3",
   "version": "3.9.15"
  }
 },
 "nbformat": 4,
 "nbformat_minor": 5
}
