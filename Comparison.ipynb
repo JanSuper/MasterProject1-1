{
 "cells": [
  {
   "cell_type": "code",
   "execution_count": 32,
   "id": "427e4724-b279-4372-bc4e-10d3d0486189",
   "metadata": {},
   "outputs": [],
   "source": [
    "import pandas as pd\n",
    "import seaborn as sns\n",
    "import matplotlib.pyplot as plt\n",
    "from pandas.api.types import is_numeric_dtype\n",
    "from sklearn.model_selection import train_test_split\n",
    "from sklearn.metrics import confusion_matrix\n",
    "import numpy as np\n",
    "import seaborn as sns\n",
    "from sklearn_som.som import SOM\n",
    "from collections import Counter\n",
    "\n",
    "%matplotlib inline  \n",
    "plt.rcParams['figure.figsize'] = (10, 6)\n",
    "\n",
    "df = pd.read_csv('full_data.csv', engine= 'python')\n",
    "\n",
    "for c in df.columns[1:]:\n",
    "    if c == 'TissueTypePrediction':\n",
    "        break\n",
    "    if not is_numeric_dtype(df[c]):\n",
    "        #print(c)\n",
    "        df[c] = df[c].apply(lambda x: float(x.split()[0].replace(',','.')))"
   ]
  },
  {
   "cell_type": "code",
   "execution_count": 37,
   "id": "e6c8fa12-445a-4d07-b2f8-a30c60d2f348",
   "metadata": {},
   "outputs": [],
   "source": [
    "PATIENT_NUM = 4\n",
    "Som_M = 3\n",
    "Som_N = 3"
   ]
  },
  {
   "cell_type": "code",
   "execution_count": 39,
   "id": "12eb763b-b9ce-4a4a-b9ce-c6e976c9a71b",
   "metadata": {},
   "outputs": [
    {
     "name": "stdout",
     "output_type": "stream",
     "text": [
      "Uninflamed\n",
      "1 : 21.298718574025628 %\n",
      "2 : 9.757016804859663 %\n",
      "3 : 5.090231898195362 %\n",
      "4 : 3.867556422648871 %\n",
      "5 : 0.08701724825965504 %\n",
      "6 : 23.480800780383984 %\n",
      "7 : 13.445550481088992 %\n",
      "8 : 1.0891012282179753 %\n",
      "9 : 0.0 %\n",
      "Inflamed\n",
      "1 : 5.950348771716997 %\n",
      "2 : 20.652484727698106 %\n",
      "3 : 0.1888999610068888 %\n",
      "4 : 3.3170139941943586 %\n",
      "5 : 42.40544170529873 %\n",
      "6 : 2.327455482864694 %\n",
      "7 : 12.495992374680473 %\n",
      "8 : 12.173649321953121 %\n",
      "9 : 0.0 %\n",
      "Dysplastic\n",
      "1 : 12.635423130525009 %\n",
      "2 : 9.391371575638587 %\n",
      "3 : 6.413842914254905 %\n",
      "4 : 3.915445103404779 %\n",
      "5 : 6.829903461745827 %\n",
      "6 : 24.83444045451309 %\n",
      "7 : 11.628332807747475 %\n",
      "8 : 9.919331047882567 %\n",
      "9 : 0.0 %\n"
     ]
    }
   ],
   "source": [
    "dfn = df._get_numeric_data()\n",
    "normalized_df=(dfn-dfn.min())/(dfn.max()-dfn.min())\n",
    "\n",
    "typelist = df[df['Patient'] == PATIENT_NUM]['Status.simple'].unique()\n",
    "mask = df['Status.simple'] == typelist[0]\n",
    "df1 = normalized_df[mask]\n",
    "\n",
    "df1 = normalized_df\n",
    "\n",
    "col = [\"ROInr\",\"Cell_Area\",\"Nucl_Area\",\"X80ArAr_Mean\",\"sSMA113_Mean\",\"aSMA_Mean\",\"X124Xe_Mean\",\"X127I_Mean\",\"X129Xe_Mean\",\"X132Xe_Mean\",\"RORgt_Mean\",\"Ecad_Mean\",\"CD20_Mean\",\"GATA3_Mean\",\"GATA3_Nucl_Mean\",\"Tbet_Mean\",\"Tbet_Nucl_Mean\",\"CD16_Mean\",\"BetaCatenin_Mean\",\"PanKeratin_Mean\",\"CTLA4_Mean\",\"PDL1_Mean\",\"IFNg_Mean\",\"CD45RO_Mean\",\"AKT_Mean\",\"HLA_DR-DP-DQ_Mean\",\"FOXP3_Mean\",\"FOXP3_Nucl_Mean\",\"CD4_Mean\",\"CD103_Mean\",\"pSTAT3_Mean\",\"CD68_Mean\",\"IL10_Mean\",\"CD45_Mean\",\"CD8a_Mean\",\"ICOS_Mean\",\"pS6_Mean\",\"PD1_Mean\",\"NFkB_Mean\",\"NFkB_Nucl_Mean\",\"IL17a_Mean\",\"Ki67_Mean\",\"Ki67_Nucl_Mean\",\"GranzymeB_Mean\",\"CD3_Mean\",\"pERK_Mean\",\"Cleaved Caspase 3_Mean\",\"ERK_Mean\",\"TCRgd_Mean\",\"pAKT_Mean\",\"H3_Mean\",\"H3_Nucl_Mean\",\"Ir193_Mean\",\"Ir193_Nucl_Mean\"]\n",
    "df2 = df1[col]\n",
    "iris_som = SOM(m=Som_M, n=Som_N, dim=54)\n",
    "iris_som.fit(np.array(df2),epochs=1000)\n",
    "\n",
    "for i in range(len(typelist)):\n",
    "    df3 = normalized_df[df['Status.simple'] == typelist[i]][col]\n",
    "    predictions = iris_som.predict(np.array(df3))\n",
    "    \n",
    "    print(typelist[i])\n",
    "    for j in range(Som_M*Som_N):\n",
    "        amount = list(predictions).count(j+1)\n",
    "        percentage = amount/len(list(predictions))*100\n",
    "        print(f\"{j+1} : {percentage} %\")\n",
    "    #print(predictions)"
   ]
  },
  {
   "cell_type": "code",
   "execution_count": null,
   "id": "38d92323-9911-4137-94e3-cdc2d88b84cc",
   "metadata": {},
   "outputs": [],
   "source": []
  }
 ],
 "metadata": {
  "kernelspec": {
   "display_name": "Python 3 (ipykernel)",
   "language": "python",
   "name": "python3"
  },
  "language_info": {
   "codemirror_mode": {
    "name": "ipython",
    "version": 3
   },
   "file_extension": ".py",
   "mimetype": "text/x-python",
   "name": "python",
   "nbconvert_exporter": "python",
   "pygments_lexer": "ipython3",
   "version": "3.9.15"
  }
 },
 "nbformat": 4,
 "nbformat_minor": 5
}
